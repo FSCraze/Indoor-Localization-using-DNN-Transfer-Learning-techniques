{
  "nbformat": 4,
  "nbformat_minor": 0,
  "metadata": {
    "colab": {
      "name": "UJI_TL.ipynb",
      "provenance": [],
      "collapsed_sections": []
    },
    "kernelspec": {
      "name": "python3",
      "display_name": "Python 3"
    },
    "language_info": {
      "name": "python"
    }
  },
  "cells": [
    {
      "cell_type": "code",
      "source": [
        "BASE_BUILDING = 1\n",
        "BASE_FLOOR = 1 \n",
        "\n",
        "BUILDING = 2\n",
        "FLOOR = 3\n"
      ],
      "metadata": {
        "id": "ndF6HpsFiGf7"
      },
      "execution_count": null,
      "outputs": []
    },
    {
      "cell_type": "code",
      "execution_count": null,
      "metadata": {
        "colab": {
          "base_uri": "https://localhost:8080/"
        },
        "id": "jGUQYshHh9Ez",
        "outputId": "c1d8178d-96e3-4777-c742-bbdb883ee202"
      },
      "outputs": [
        {
          "output_type": "stream",
          "name": "stdout",
          "text": [
            "Drive already mounted at /content/drive; to attempt to forcibly remount, call drive.mount(\"/content/drive\", force_remount=True).\n"
          ]
        }
      ],
      "source": [
        "from google.colab import drive\n",
        "drive.mount('/content/drive')"
      ]
    },
    {
      "cell_type": "code",
      "source": [
        "import torch\n",
        "import pandas as pd \n",
        "import torchvision\n",
        "from torchvision import datasets, transforms\n",
        "from torch import nn,optim\n",
        "import torch.nn.functional as F\n",
        "import numpy as np\n",
        "import math\n",
        "import matplotlib.pyplot as plt\n",
        "from sklearn.model_selection import train_test_split"
      ],
      "metadata": {
        "id": "rr60ZRsLh_nQ"
      },
      "execution_count": null,
      "outputs": []
    },
    {
      "cell_type": "code",
      "source": [
        "def Plot2Dlocation(np_xy_truth, list_xy_preds,result_path, dataset_name, plot_name, connectDots=True,saveFlag=False):\n",
        "    \"\"\"\n",
        "    Plot the 2D map with the ground truth and prediction results (list_xy_preds could hold 1 set of results or more)\n",
        "    :param main_info (HouseKeeping):\n",
        "    :param np_xy_truth (Numpy):\n",
        "    :param list_xy_preds (List<String,2d_np>): e.g. list_xy_preds=[[\"Euclidean\",df_pred.values]]\n",
        "    :param dataset_name (String):\n",
        "    :param plot_name (String):\n",
        "    :param connectDots (Bool):\n",
        "    :param saveFlag (Bool):\n",
        "    :return:\n",
        "    \"\"\"\n",
        "    plt.clf()   #clear the plot\n",
        "    fig, ax = plt.subplots(figsize=(16, 10))\n",
        "    #Figure Info\n",
        "    plt.title('{}\\n({})'.format(plot_name,dataset_name))\n",
        "    #plt.title(dataset_name,y=1)\n",
        "    #plt.suptitle(plot_name, y=1.1, fontsize=18)\n",
        "    #plt.title(dataset_name, fontsize=10)\n",
        "    plt.xlabel('x')\n",
        "    plt.ylabel('y')\n",
        "\n",
        "    #plot groundtruth\n",
        "    plt.plot(np_xy_truth[:,0], np_xy_truth[:,1], GRAPH_COLOUR[0]+MARKER[0],label=\"Ground Truth\")\n",
        "\n",
        "    #connect the points\n",
        "    for caseNum in range(len(list_xy_preds)):\n",
        "        #plot pred point (scatter)\n",
        "        #plt.plot(list_xy_preds[caseNum][1][:, 0], list_xy_preds[caseNum][1][:, 1], GRAPH_COLOUR[caseNum+1] + MARKER[caseNum+1],label=list_xy_preds[caseNum][0])\n",
        "        plt.scatter(list_xy_preds[caseNum][1][:, 0], list_xy_preds[caseNum][1][:, 1],c=GRAPH_COLOUR[caseNum+1],s=5,label=list_xy_preds[caseNum][0])\n",
        "\n",
        "        if (connectDots):\n",
        "            x = np.array([np_xy_truth[:, 0], list_xy_preds[caseNum][1][:, 0]])\n",
        "            y = np.array([np_xy_truth[:, 1], list_xy_preds[caseNum][1][:, 1]])\n",
        "            plt.plot(x, y, GRAPH_COLOUR[caseNum + 1], alpha=0.2)\n",
        "\n",
        "    plt.legend()\n",
        "    if saveFlag:\n",
        "        saveName = join(result_path,dataset_name+\"_\"+plot_name+\".png\")\n",
        "        plt.savefig(saveName)\n",
        "    # plt.show()\n",
        "\n",
        "\n",
        "    #endFunction Plot2Dlocation\n",
        "\n",
        "def convert_data_to_tensor(np_data,device):\n",
        "    return torch.tensor(np_data,dtype=torch.float32).to(device)\n",
        "\n",
        "def create_data_loader(np_input, np_label, batch_size, shuffle=False):\n",
        "    device = torch.device('cuda' if (torch.cuda.is_available()) else 'cpu')\n",
        "\n",
        "    input = Variable(convert_data_to_tensor(np_input,device))\n",
        "    label = Variable(convert_data_to_tensor(np_label,device))\n",
        "\n",
        "    if torch.cuda.is_available():\n",
        "        input = input.cuda()\n",
        "        label = label.cuda()\n",
        "\n",
        "    data_loader = DataLoader(dataset=TensorDataset(input,label),\n",
        "                             batch_size=batch_size,\n",
        "                             shuffle=shuffle)\n",
        "    return data_loader\n",
        "\n",
        "\n",
        "def scale_data(rss_df):\n",
        "    if not('pandas' in str(type(rss_df))):\n",
        "        print(\"ERROR: Please Input Data in pandas.DataFrame\")\n",
        "        return -1\n",
        "\n",
        "    new_rss = rss_df.copy()\n",
        "    new_rss[new_rss == 100] = -110\n",
        "    new_rss[new_rss == -100] = -110\n",
        "\n",
        "    new_rss /= 110\n",
        "    new_rss += 1\n",
        "    return new_rss.values\n",
        "\n",
        "def scale_xy(lon_lat, mean, std):\n",
        "    return (lon_lat - mean) / std\n",
        "\n",
        "def rescale_xy(scale_lon_lat, mean, std):\n",
        "    scale_lon_lat = np.array(scale_lon_lat)\n",
        "    lon = np.transpose(np.array([scale_lon_lat[:, 0]]))\n",
        "    # lon = output[0]\n",
        "    lon_rescaled = lon * std[0] + mean[0]\n",
        "\n",
        "    lat = np.transpose(np.array([scale_lon_lat[:, 1]]))\n",
        "    # lat = output[1]\n",
        "    lat_rescaled = lat * std[1] + mean[1]\n",
        "    return np.array([lon_rescaled, lat_rescaled]).transpose().reshape(-1,2)\n",
        "\n",
        "\n",
        "def save_result (df_pred, df_true, data_name, case_name, save_path):\n",
        "    # % SAVE RESULT\n",
        "    df_result = df_pred.copy()\n",
        "\n",
        "    df_result.join(df_true)\n",
        "    file_path = join(save_path, \"pred_{}_{}.csv\".format(data_name,case_name))\n",
        "    df_result.to_csv(file_path,header=True)\n",
        "\n",
        "\n",
        "    # % Evaluate the Result\n",
        "    eval_euclidean_distance(\n",
        "        df_pred = df_pred,\n",
        "        df_truth = df_true,\n",
        "        dataset_name = data_name,\n",
        "        case_name = case_name,\n",
        "        save_path = save_path,\n",
        "        run_time=-1,\n",
        "        file_name=\"Eval_Results.csv\",\n",
        "        saveFlag=True\n",
        "    )\n",
        "\n",
        "    # Plot - Result\n",
        "    Plot2Dlocation(df_true.values, [[case_name, df_pred.values]], save_path, data_name, case_name,\n",
        "                   connectDots=True, saveFlag=True)\n",
        "\n",
        "    print(\"-- [complete] save pred_{}_{}.csv\".format(data_name,case_name))\n",
        "#end save_result"
      ],
      "metadata": {
        "id": "_3PkNwIxiFDS"
      },
      "execution_count": null,
      "outputs": []
    },
    {
      "cell_type": "code",
      "source": [
        "data = pd.read_csv('/content/drive/MyDrive/FYP/UJI/df_train_combined.csv')\n",
        "data = data[data[\"BuildingID\"]==BUILDING]\n",
        "data = data[data[\"FloorID\"]==FLOOR]\n",
        "label = data[[\"x\",\"y\"]]\n",
        "\n",
        "#data = data.drop(columns=['type','timestamp','longitude','latitude','floor_id'])\n",
        "data = data.drop(columns=[\"lon\",\"lat\",\"FloorID\",\"BuildingID\",\"locID\",\"RELATIVEPOSITION\",\"USERID\",\"PHONEID\",\"TIMESTAMP\",\"pos_loc\",\"SectionID\",\"x\",\"y\"])\n",
        "print(data)\n",
        "\n",
        "X_train, X_test, y_train, y_test = train_test_split(data, label, test_size=0.2, random_state=42)\n",
        "\n",
        "\n",
        "\n",
        "\n",
        "#Normalize training input data\n",
        "X_train = scale_data(X_train)\n",
        "\n",
        "#Normalize training label: \n",
        "mean = np.mean(y_train.values, axis=0)\n",
        "std = np.std(y_train.values, axis=0)\n",
        "label = scale_xy(y_train.values, mean, std)\n",
        "\n",
        "\n",
        "\n",
        "#convert df to tensor object\n",
        "data = torch.tensor(X_train)\n",
        "\n",
        "label_t = torch.tensor(label)\n",
        "\n",
        "#flatten \n",
        "data_t = torch.flatten(data,1)\n",
        "\n",
        "label_t = torch.flatten(label_t,1)\n",
        "print(\"data shape: \" + str(data_t.shape))\n",
        "print(\"label shape: \" + str(label_t.shape))\n",
        "\n",
        "\n",
        "train_data = [] \n",
        "for i in range(len(data_t)):\n",
        "    train_data.append([data_t[i],label_t[i]])\n",
        "\n",
        "\n",
        "\n"
      ],
      "metadata": {
        "colab": {
          "base_uri": "https://localhost:8080/"
        },
        "id": "Klq_dK4x2V9D",
        "outputId": "ff2e1ca6-9c74-4679-83c2-10d6b0068b1d"
      },
      "execution_count": null,
      "outputs": [
        {
          "output_type": "stream",
          "name": "stdout",
          "text": [
            "       WAP001  WAP002  WAP003  WAP004  WAP005  WAP006  WAP007  WAP008  WAP009  \\\n",
            "32       -100    -100    -100     -97    -100    -100    -100    -100    -100   \n",
            "33       -100    -100    -100    -100    -100    -100    -100    -100    -100   \n",
            "34       -100    -100    -100    -100    -100    -100     -89    -100    -100   \n",
            "35       -100    -100    -100    -100    -100    -100     -88    -100    -100   \n",
            "36       -100    -100    -100    -100    -100    -100    -100    -100    -100   \n",
            "...       ...     ...     ...     ...     ...     ...     ...     ...     ...   \n",
            "10084    -100    -100    -100    -100    -100    -100     -76    -100    -100   \n",
            "10085    -100    -100    -100    -100    -100    -100    -100    -100    -100   \n",
            "10086    -100    -100    -100    -100    -100    -100    -100    -100    -100   \n",
            "10087    -100    -100    -100    -100    -100    -100    -100    -100    -100   \n",
            "10090    -100    -100    -100    -100    -100    -100    -100    -100    -100   \n",
            "\n",
            "       WAP010  ...  WAP511  WAP512  WAP513  WAP514  WAP515  WAP516  WAP517  \\\n",
            "32       -100  ...    -100    -100    -100    -100    -100    -100    -100   \n",
            "33       -100  ...    -100    -100    -100    -100    -100    -100    -100   \n",
            "34       -100  ...    -100    -100    -100    -100    -100    -100    -100   \n",
            "35       -100  ...    -100    -100    -100    -100    -100    -100    -100   \n",
            "36       -100  ...    -100    -100    -100    -100    -100    -100    -100   \n",
            "...       ...  ...     ...     ...     ...     ...     ...     ...     ...   \n",
            "10084    -100  ...    -100    -100    -100    -100    -100    -100    -100   \n",
            "10085    -100  ...    -100    -100    -100    -100    -100    -100    -100   \n",
            "10086    -100  ...    -100    -100    -100    -100    -100    -100    -100   \n",
            "10087    -100  ...    -100    -100    -100    -100    -100    -100    -100   \n",
            "10090    -100  ...    -100    -100    -100    -100    -100    -100    -100   \n",
            "\n",
            "       WAP518  WAP519  WAP520  \n",
            "32       -100    -100    -100  \n",
            "33       -100    -100    -100  \n",
            "34       -100    -100    -100  \n",
            "35       -100    -100    -100  \n",
            "36       -100    -100    -100  \n",
            "...       ...     ...     ...  \n",
            "10084    -100    -100    -100  \n",
            "10085    -100    -100    -100  \n",
            "10086    -100    -100    -100  \n",
            "10087    -100    -100    -100  \n",
            "10090    -100    -100    -100  \n",
            "\n",
            "[1931 rows x 520 columns]\n",
            "data shape: torch.Size([1544, 520])\n",
            "label shape: torch.Size([1544, 2])\n"
          ]
        }
      ]
    },
    {
      "cell_type": "code",
      "source": [
        "#Normalize test input data \n",
        "X_test = scale_data(X_test) \n",
        "\n",
        "#Normalize training label\n",
        "mean_val = np.mean(y_test.values, axis=0)\n",
        "std_val = np.std(y_test.values, axis=0)\n",
        "label_val = scale_xy(y_test.values, mean_val, std_val)\n",
        "\n",
        "\n",
        "\n",
        "\n",
        "#convert df to tensor object\n",
        "data_val_t1 = torch.tensor(X_test)\n",
        "\n",
        "label_val_t = torch.tensor(label_val)\n",
        "\n",
        "#flatten \n",
        "data_val_t = torch.flatten(data_val_t1,1)\n",
        "\n",
        "label_val_t = torch.flatten(label_val_t,1)\n",
        "print(\"data shape: \" + str(data_val_t.shape))\n",
        "print(\"label shape: \" + str(label_val_t.shape))\n",
        "\n",
        "val_data = [] \n",
        "for i in range(len(data_val_t)):\n",
        "    val_data.append([data_val_t[i],label_val_t[i]])"
      ],
      "metadata": {
        "colab": {
          "base_uri": "https://localhost:8080/"
        },
        "id": "-E5WFMwD2ceQ",
        "outputId": "37263e05-e2c5-4eb6-c191-5a9f4f2d991d"
      },
      "execution_count": null,
      "outputs": [
        {
          "output_type": "stream",
          "name": "stdout",
          "text": [
            "data shape: torch.Size([387, 520])\n",
            "label shape: torch.Size([387, 2])\n"
          ]
        }
      ]
    },
    {
      "cell_type": "code",
      "source": [
        "#put both train and validation sets into loader \n",
        "trainloader = torch.utils.data.DataLoader(train_data, batch_size=16)\n",
        "testloader = torch.utils.data.DataLoader(val_data, batch_size=16)\n",
        "\n",
        "print(\"Finish dataset part\")"
      ],
      "metadata": {
        "colab": {
          "base_uri": "https://localhost:8080/"
        },
        "id": "eAimv2cM2eCd",
        "outputId": "9c3502e0-2868-484b-e3a8-7c90e17de25f"
      },
      "execution_count": null,
      "outputs": [
        {
          "output_type": "stream",
          "name": "stdout",
          "text": [
            "Finish dataset part\n"
          ]
        }
      ]
    },
    {
      "cell_type": "code",
      "source": [
        "class Classifier(nn.Module):\n",
        "    def __init__(self):\n",
        "        super().__init__()\n",
        "        self.fc1 = nn.Linear(data_val_t.shape[1],300)\n",
        "        self.fc2 = nn.Linear(300,300)\n",
        "        self.fc3 = nn.Linear(300,300)\n",
        "        self.fc4 = nn.Linear(300,2)\n",
        "\n",
        "        \n",
        "        self.dropout = nn.Dropout(p=0.5)\n",
        "        \n",
        "    def forward(self,x):\n",
        "        x = x.view(x.shape[0],-1)\n",
        "        x = self.dropout(F.relu(self.fc1(x)))\n",
        "        x = self.dropout(F.relu(self.fc2(x)))\n",
        "        x = self.dropout(F.relu(self.fc3(x)))\n",
        "        x = self.fc4(x)\n",
        "        \n",
        "        return x\n",
        "model = Classifier()\n",
        "    \n"
      ],
      "metadata": {
        "id": "XuVOSRRSipsR"
      },
      "execution_count": null,
      "outputs": []
    },
    {
      "cell_type": "code",
      "source": [
        "import time \n",
        "model.load_state_dict(torch.load(f\"/content/drive/MyDrive/FYP/UJI/UJI_MODEL_BUILDING{BASE_BUILDING}_FLOOR{BASE_FLOOR}\"))\n",
        "\n",
        "device = torch.device('cuda' if torch.cuda.is_available() else 'cpu')\n",
        "\n",
        "LR = 0.0001\n",
        "\n",
        "\n",
        "print(f\"Computation device: {device}\\n\")\n",
        "\n",
        "optimizer = optim.Adam(model.parameters(), lr= LR) \n",
        "\n",
        "criterion = nn.MSELoss() #MSE\n",
        "\n",
        "epochs = 50\n",
        "train_losses, test_losses = [],[]\n",
        "times = []\n",
        "for e in range(epochs):\n",
        "    start_epoch = time.time()\n",
        "    tot_train_loss = 0 \n",
        "    for data, labels in trainloader:\n",
        "        data, labels = data.to(device), labels.to(device)\n",
        "        data = data.view(data.shape[0],-1)\n",
        "        data = data.float()\n",
        "        optimizer.zero_grad()\n",
        "        output = model(data)\n",
        "\n",
        "        loss = torch.sqrt(criterion(output,labels.float())) #RMSE \n",
        "        #loss = criterion(output,labels.float())\n",
        "        tot_train_loss+=loss.item()\n",
        "        \n",
        "        loss.backward()\n",
        "        optimizer.step()\n",
        "        \n",
        "\n",
        "\n",
        "    else:\n",
        "        #if e>=100 and e%5==0 :\n",
        "            #torch.save(model.state_dict(), './outputs/dec_control/dec-epoch-{}.pth'.format(e))\n",
        "        tot_test_loss = 0 \n",
        "        with torch.no_grad():\n",
        "            for data, labels in testloader:\n",
        "                data, labels = data.to(device), labels.to(device)\n",
        "                data = data.view(data.shape[0],-1)\n",
        "                data=data.float()\n",
        "                test_output = model(data)\n",
        "                loss = torch.sqrt(criterion(test_output,labels.float()))\n",
        "                #loss = criterion(test_output,labels.float())\n",
        "\n",
        "                tot_test_loss+=loss.item()\n",
        "                \n",
        "        train_loss = tot_train_loss/len(trainloader.dataset)\n",
        "        test_loss = tot_test_loss/len(trainloader.dataset)\n",
        "        train_losses.append(train_loss)\n",
        "        test_losses.append(test_loss)\n",
        "        end_epoch = time.time()\n",
        "        elapsed = end_epoch - start_epoch \n",
        "        times.append(elapsed)\n",
        "\n",
        "        print(\"Epoch:{}/{}..\".format(e+1,epochs),\n",
        "             \"Training Loss:{:.3f}..\".format(train_loss),\n",
        "             \"Test Loss:{:.3f}..\".format(test_loss))\n"
      ],
      "metadata": {
        "id": "e9P5QfegipNp",
        "colab": {
          "base_uri": "https://localhost:8080/"
        },
        "outputId": "8812acd5-a22b-45e2-c76f-7e83db5e03a2"
      },
      "execution_count": null,
      "outputs": [
        {
          "output_type": "stream",
          "name": "stdout",
          "text": [
            "Computation device: cpu\n",
            "\n",
            "Epoch:1/50.. Training Loss:0.061.. Test Loss:0.010..\n",
            "Epoch:2/50.. Training Loss:0.030.. Test Loss:0.006..\n",
            "Epoch:3/50.. Training Loss:0.022.. Test Loss:0.005..\n",
            "Epoch:4/50.. Training Loss:0.019.. Test Loss:0.005..\n",
            "Epoch:5/50.. Training Loss:0.018.. Test Loss:0.005..\n",
            "Epoch:6/50.. Training Loss:0.017.. Test Loss:0.005..\n",
            "Epoch:7/50.. Training Loss:0.017.. Test Loss:0.005..\n",
            "Epoch:8/50.. Training Loss:0.016.. Test Loss:0.004..\n",
            "Epoch:9/50.. Training Loss:0.016.. Test Loss:0.004..\n",
            "Epoch:10/50.. Training Loss:0.015.. Test Loss:0.004..\n",
            "Epoch:11/50.. Training Loss:0.014.. Test Loss:0.004..\n",
            "Epoch:12/50.. Training Loss:0.015.. Test Loss:0.004..\n",
            "Epoch:13/50.. Training Loss:0.014.. Test Loss:0.004..\n",
            "Epoch:14/50.. Training Loss:0.013.. Test Loss:0.004..\n",
            "Epoch:15/50.. Training Loss:0.014.. Test Loss:0.004..\n",
            "Epoch:16/50.. Training Loss:0.013.. Test Loss:0.004..\n",
            "Epoch:17/50.. Training Loss:0.013.. Test Loss:0.004..\n",
            "Epoch:18/50.. Training Loss:0.013.. Test Loss:0.004..\n",
            "Epoch:19/50.. Training Loss:0.013.. Test Loss:0.004..\n",
            "Epoch:20/50.. Training Loss:0.013.. Test Loss:0.003..\n",
            "Epoch:21/50.. Training Loss:0.012.. Test Loss:0.004..\n",
            "Epoch:22/50.. Training Loss:0.012.. Test Loss:0.004..\n",
            "Epoch:23/50.. Training Loss:0.012.. Test Loss:0.003..\n",
            "Epoch:24/50.. Training Loss:0.012.. Test Loss:0.004..\n",
            "Epoch:25/50.. Training Loss:0.012.. Test Loss:0.003..\n",
            "Epoch:26/50.. Training Loss:0.012.. Test Loss:0.003..\n",
            "Epoch:27/50.. Training Loss:0.012.. Test Loss:0.003..\n",
            "Epoch:28/50.. Training Loss:0.011.. Test Loss:0.003..\n",
            "Epoch:29/50.. Training Loss:0.012.. Test Loss:0.003..\n",
            "Epoch:30/50.. Training Loss:0.011.. Test Loss:0.003..\n",
            "Epoch:31/50.. Training Loss:0.011.. Test Loss:0.003..\n",
            "Epoch:32/50.. Training Loss:0.011.. Test Loss:0.003..\n",
            "Epoch:33/50.. Training Loss:0.011.. Test Loss:0.003..\n",
            "Epoch:34/50.. Training Loss:0.011.. Test Loss:0.003..\n",
            "Epoch:35/50.. Training Loss:0.011.. Test Loss:0.003..\n",
            "Epoch:36/50.. Training Loss:0.011.. Test Loss:0.003..\n",
            "Epoch:37/50.. Training Loss:0.011.. Test Loss:0.003..\n",
            "Epoch:38/50.. Training Loss:0.011.. Test Loss:0.003..\n",
            "Epoch:39/50.. Training Loss:0.011.. Test Loss:0.003..\n",
            "Epoch:40/50.. Training Loss:0.011.. Test Loss:0.003..\n",
            "Epoch:41/50.. Training Loss:0.011.. Test Loss:0.003..\n",
            "Epoch:42/50.. Training Loss:0.011.. Test Loss:0.003..\n",
            "Epoch:43/50.. Training Loss:0.011.. Test Loss:0.003..\n",
            "Epoch:44/50.. Training Loss:0.010.. Test Loss:0.003..\n",
            "Epoch:45/50.. Training Loss:0.011.. Test Loss:0.003..\n",
            "Epoch:46/50.. Training Loss:0.011.. Test Loss:0.003..\n",
            "Epoch:47/50.. Training Loss:0.011.. Test Loss:0.003..\n",
            "Epoch:48/50.. Training Loss:0.010.. Test Loss:0.003..\n",
            "Epoch:49/50.. Training Loss:0.011.. Test Loss:0.003..\n",
            "Epoch:50/50.. Training Loss:0.011.. Test Loss:0.003..\n"
          ]
        }
      ]
    },
    {
      "cell_type": "code",
      "source": [
        "print(sum(times))\n"
      ],
      "metadata": {
        "colab": {
          "base_uri": "https://localhost:8080/"
        },
        "id": "liuNygYHUtFA",
        "outputId": "1e96ab86-94c8-40b2-e7de-36f20982f430"
      },
      "execution_count": null,
      "outputs": [
        {
          "output_type": "stream",
          "name": "stdout",
          "text": [
            "44.82832455635071\n"
          ]
        }
      ]
    },
    {
      "cell_type": "code",
      "source": [
        "import matplotlib.pyplot as plt\n",
        "\n",
        "\n",
        "# loss plots\n",
        "plt.figure(figsize=(10, 7))\n",
        "plt.plot(train_losses, color='orange', label='train loss')\n",
        "plt.xlabel('Epochs')\n",
        "plt.ylabel('Loss')\n",
        "plt.legend()\n",
        "#plt.savefig(f\"./outputs/{loss_plot_name}.png\")\n",
        "plt.show()\n",
        "\n",
        "# loss plots\n",
        "plt.figure(figsize=(10, 7))\n",
        "plt.plot(test_losses, color='red', label='validation loss')\n",
        "plt.xlabel('Epochs')\n",
        "plt.ylabel('Loss')\n",
        "plt.legend()\n",
        "#plt.savefig(f\"./outputs/{loss_plot_name}.png\")\n",
        "plt.show()"
      ],
      "metadata": {
        "colab": {
          "base_uri": "https://localhost:8080/",
          "height": 867
        },
        "id": "ULFfxLED2hMJ",
        "outputId": "116b1012-0bff-4252-e55b-6a016db05ce0"
      },
      "execution_count": null,
      "outputs": [
        {
          "output_type": "display_data",
          "data": {
            "image/png": "[encoded data removed]",
            "text/plain": [
              "<Figure size 720x504 with 1 Axes>"
            ]
          },
          "metadata": {
            "needs_background": "light"
          }
        },
        {
          "output_type": "display_data",
          "data": {
            "image/png": "[encoded data removed]",
            "text/plain": [
              "<Figure size 720x504 with 1 Axes>"
            ]
          },
          "metadata": {
            "needs_background": "light"
          }
        }
      ]
    },
    {
      "cell_type": "code",
      "source": [
        "#validation_loss, validation_pred = evaluate(data_val_t, label_val_t, model, criterion, mean, std)\n",
        "\n",
        "data_val_new = pd.read_csv('/content/drive/MyDrive/FYP/UJI/df_test_combined.csv')\n",
        "data_val_new = data_val_new[data_val_new[\"BuildingID\"]==BUILDING]\n",
        "data_val_new = data_val_new[data_val_new[\"FloorID\"]==FLOOR]\n",
        "label_val_new = data_val_new[[\"x\",\"y\"]]\n",
        "\n",
        "\n",
        "\n",
        "#Normalize  label: \n",
        "mean = np.mean(label_val_new.values, axis=0)\n",
        "std = np.std(label_val_new.values, axis=0)\n",
        "label = scale_xy(label_val_new.values, mean, std)\n",
        "\n",
        "data_val_new = data_val_new.drop(columns=[\"lon\",\"lat\",\"FloorID\",\"BuildingID\",\"locID\",\"RELATIVEPOSITION\",\"USERID\",\"PHONEID\",\"TIMESTAMP\",\"pos_loc\",\"SectionID\",\"x\",\"y\"])\n",
        "\n",
        "\n"
      ],
      "metadata": {
        "id": "GxxgApTfiIHD"
      },
      "execution_count": null,
      "outputs": []
    },
    {
      "cell_type": "code",
      "source": [
        "def evaluate(test_input, test_label, model, loss_fn, xy_mean, xy_std):\n",
        "    model.eval()\n",
        "    pred = model(convert_data_to_tensor(scale_data(test_input), device))\n",
        "    val_loss = loss_fn(\n",
        "        convert_data_to_tensor(rescale_xy(pred.data.cpu().numpy(), xy_mean, xy_std), device),\n",
        "        convert_data_to_tensor(test_label, device)).data\n",
        "    return val_loss.item(), rescale_xy(pred.data.cpu().numpy(), xy_mean, xy_std)\n",
        "\n",
        "validation_loss, validation_pred = evaluate(data_val_new,label_val_new.values, model, criterion, mean, std)"
      ],
      "metadata": {
        "id": "R4X6hMdP04RD"
      },
      "execution_count": null,
      "outputs": []
    },
    {
      "cell_type": "code",
      "source": [
        "dist_list = [] \n",
        "for i in range(len(validation_pred)):\n",
        "    dist = np.linalg.norm(validation_pred[i]-label_val_new.values[i])\n",
        "    dist_list.append(dist)\n",
        "    \n",
        "print(\"Validation loss: \" + str('{0:.2f}'.format(validation_loss)))\n",
        "print(\"Average: \" + str('{0:.2f}'.format(np.average(dist_list))) + \" m\")\n",
        "print(\"Max: \" + str('{0:.2f}'.format(max(dist_list))) + \" m\")\n",
        "print(\"Min: \" + str('{0:.2f}'.format(min(dist_list))) + \" m\")\n",
        "\n"
      ],
      "metadata": {
        "colab": {
          "base_uri": "https://localhost:8080/"
        },
        "id": "cNpv8yppkzKd",
        "outputId": "3872d561-6554-4dc6-fa29-16bf29c5b76e"
      },
      "execution_count": null,
      "outputs": [
        {
          "output_type": "stream",
          "name": "stdout",
          "text": [
            "Validation loss: 17.54\n",
            "Average: 5.37 m\n",
            "Max: 15.61 m\n",
            "Min: 0.39 m\n"
          ]
        }
      ]
    },
    {
      "cell_type": "code",
      "source": [
        "temp_pred = [] \n",
        "for i in range(len(validation_pred)):\n",
        "  temp_pred.append(validation_pred[i])\n",
        "df_pred = pd.DataFrame(validation_pred)"
      ],
      "metadata": {
        "id": "X7MG63EEk0gV"
      },
      "execution_count": null,
      "outputs": []
    },
    {
      "cell_type": "code",
      "source": [
        "GRAPH_COLOUR = ['b', 'g', 'r', 'c', 'm', 'y', 'k', 'w']\n",
        "MARKER = ['o', '.', ',', 'x', '+', 'v', '^', '<', '>', 's', 'd']\n",
        "\n",
        "\n",
        "Plot2Dlocation(label_val_new.values, [[\"Euclidean\",df_pred.values]],\"test\",f\"Building: {BUILDING} Floor: {FLOOR}\",\"UJIndoor dataset\")"
      ],
      "metadata": {
        "colab": {
          "base_uri": "https://localhost:8080/",
          "height": 526
        },
        "id": "GHjG1LyllNlk",
        "outputId": "83685dc8-9933-439e-d490-8f95aaff3cd9"
      },
      "execution_count": null,
      "outputs": [
        {
          "output_type": "display_data",
          "data": {
            "text/plain": [
              "<Figure size 432x288 with 0 Axes>"
            ]
          },
          "metadata": {}
        },
        {
          "output_type": "display_data",
          "data": {
            "image/png": "[encoded data removed]",
            "text/plain": [
              "<Figure size 1152x720 with 1 Axes>"
            ]
          },
          "metadata": {
            "needs_background": "light"
          }
        }
      ]
    },
    {
      "cell_type": "code",
      "source": [
        "dist_list = [] \n",
        "for i in range(len(validation_pred)):\n",
        "    dist = np.linalg.norm(validation_pred[i]-label_val_new.values[i])\n",
        "    dist_list.append(dist)\n",
        "    \n",
        "print(\"Validation loss: \" + str('{0:.2f}'.format(validation_loss)))\n",
        "print(\"Average: \" + str('{0:.2f}'.format(np.average(dist_list))) + \" m\")\n",
        "print(\"Max: \" + str('{0:.2f}'.format(max(dist_list))) + \" m\")\n",
        "print(\"Min: \" + str('{0:.2f}'.format(min(dist_list))) + \" m\")\n",
        "\n"
      ],
      "metadata": {
        "id": "PnnCkeQylPIE",
        "colab": {
          "base_uri": "https://localhost:8080/"
        },
        "outputId": "f1c1568c-c8ea-4d71-c1c9-57d2c2c0d7b9"
      },
      "execution_count": null,
      "outputs": [
        {
          "output_type": "stream",
          "name": "stdout",
          "text": [
            "Validation loss: 17.54\n",
            "Average: 5.37 m\n",
            "Max: 15.61 m\n",
            "Min: 0.39 m\n"
          ]
        }
      ]
    },
    {
      "cell_type": "code",
      "source": [
        ""
      ],
      "metadata": {
        "id": "u6VXT_X0WK7S"
      },
      "execution_count": null,
      "outputs": []
    }
  ]
}